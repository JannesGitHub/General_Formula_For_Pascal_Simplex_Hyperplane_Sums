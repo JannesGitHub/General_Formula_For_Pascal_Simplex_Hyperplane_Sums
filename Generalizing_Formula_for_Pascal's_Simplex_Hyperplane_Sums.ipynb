{
  "cells": [
    {
      "cell_type": "markdown",
      "id": "963b65cd-6446-4efd-96e4-c5463a591e90",
      "metadata": {
        "id": "963b65cd-6446-4efd-96e4-c5463a591e90"
      },
      "source": [
        "# **Generalizing the connection between Pascals Triangle and the Fiboncacci sequence**"
      ]
    },
    {
      "cell_type": "markdown",
      "source": [
        "## Introduction"
      ],
      "metadata": {
        "id": "9LwFT989pKdB"
      },
      "id": "9LwFT989pKdB"
    },
    {
      "cell_type": "markdown",
      "source": [
        "Pascal’s Triangle is one of the most fascinating mathematical structures, appearing in numerous areas of mathematics, from combinatorics to number theory. It is built by arranging binomial coefficients in a triangular pattern, revealing surprising relationships between numbers. One such connection, perhaps lesser known, links Pascal’s Triangle to the Fibonacci sequence.\n",
        "\n",
        "The Fibonacci sequence is a simple yet powerful sequence of numbers, where each term is the sum of the two preceding ones. It appears in nature, art, and even financial models.\n",
        "Remarkably, hidden within Pascal’s Triangle, Fibonacci numbers can be discovered along specific diagonal paths, as you can see in the picture below.\n",
        "\n",
        "![](https://aperiodical.com/wp-content/uploads/2021/12/image-3.png)\n",
        "\n",
        "As you can see, the sequence of diagonal sums equals the Fibonacci sequence, which is defined as:\n",
        "\n",
        "$$\n",
        "F_n =\n",
        "\\begin{cases}\n",
        "    0, & \\text{if } n = 0 \\\\\n",
        "    1, & \\text{if } n = 1 \\\\\n",
        "    F_{n-1} + F_{n-2}, & \\text{if } n \\geq 2\n",
        "\\end{cases}\n",
        "$$\n",
        "\n",
        "In this notebook, we will explore this connection in greater depth and extend it beyond two dimensions. By generalizing Pascal’s Triangle into higher-dimensional structures, known as Pascal simplices, we will uncover a formula for summing elements along specific hyperplanes. This exploration will not only deepen our understanding of Pascal’s Triangle and the Fibonacci sequence but also reveal elegant mathematical patterns that emerge in higher dimensions."
      ],
      "metadata": {
        "id": "xXyFlporlDPn"
      },
      "id": "xXyFlporlDPn"
    },
    {
      "cell_type": "markdown",
      "source": [
        "## Constructing Pascal's Simplices"
      ],
      "metadata": {
        "id": "rxRj10uElMl_"
      },
      "id": "rxRj10uElMl_"
    },
    {
      "cell_type": "markdown",
      "source": [
        "To perform various calculations on a Pascal Simplex, we first need to construct its structure. The Pascal Simplex is represented as a **nested list**, where each element is indexed based on its position within different dimensions:\n",
        "\n",
        "*   The first index represents the layer of the element along the first axis\n",
        "*   The second index represents the position along the second axis\n",
        "*   This pattern continues for higher dimensions, where each additional index specifies the position along a new axis.\n",
        "\n",
        "A key property of Pascal simplices is that they can be **constructed recursively**. A Pascal Simplex in a given dimension always contains all Pascal simplices of lower dimensions within its structure. This recursive nature allows us to build higher-dimensional Pascal simplices step by step, by computing all possible partitions of an index into multiple components.\n",
        "\n",
        "Effectively, each entry in the Pascal Simplex corresponds to a **multinomial coefficient**, and its structure emerges naturally from this recursive growth process."
      ],
      "metadata": {
        "id": "ZqU_cfBAmSTG"
      },
      "id": "ZqU_cfBAmSTG"
    },
    {
      "cell_type": "code",
      "source": [
        "from math import factorial\n",
        "\n",
        "def createPascalSimplex(layers, dimension):\n",
        "    \"\"\"\n",
        "    Creates a Pascal Simplex with the given number of layers and dimension.\n",
        "    Uses multinomial coefficients to compute the entries.\n",
        "\n",
        "    Args:\n",
        "        layers (int): The number of layers in the simplex.\n",
        "        dimension (int): The dimension of the simplex (must be at least 1).\n",
        "\n",
        "    Returns:\n",
        "        list: A nested list representing the Pascal Simplex.\n",
        "    \"\"\"\n",
        "\n",
        "    def generate_layer(x, dim):  # Generates a layer at depth x in dimension dim\n",
        "        def recurse(k_list, remaining):\n",
        "            \"\"\"\n",
        "            Recursively generates all valid partitions of x into dim components.\n",
        "            \"\"\"\n",
        "\n",
        "            # The number of k_i indices at this element.\n",
        "            # This number increases with each recursive call (from 0 to dim-1).\n",
        "            current_depth = len(k_list)\n",
        "\n",
        "            if current_depth == dim - 1:\n",
        "                # If the number of indices equals dim - 1, we have determined all except the last index.\n",
        "                # The last index (k_last) is set to the remaining value.\n",
        "                k_last = remaining\n",
        "                all_ks = k_list + [k_last]\n",
        "\n",
        "                # Compute the multinomial coefficient\n",
        "                denominator = 1\n",
        "                for k in all_ks:\n",
        "                    denominator *= factorial(k)\n",
        "                return factorial(x) // denominator\n",
        "            else:\n",
        "                # Recursively iterate through all possible partitions of k_i indices\n",
        "                sub = []\n",
        "                for k in range(remaining + 1):\n",
        "                    sub.append(recurse(k_list + [k], remaining - k))\n",
        "                return sub\n",
        "\n",
        "        if dim == 0:\n",
        "            # Base case: if dimension reaches 0, return an empty list\n",
        "            return []\n",
        "\n",
        "        # x represents the sum of all k_i indices.\n",
        "        # [] contains all current k_i indices and iterates recursively through all possible partitions for this level.\n",
        "        return recurse([], x)\n",
        "\n",
        "    if dimension < 1:\n",
        "        raise ValueError(\"The dimension of a Pascal Simplex must be at least 1.\")\n",
        "\n",
        "    simplex = []\n",
        "    for x in range(layers):\n",
        "        # Iterate through layers and append the generated layer to the simplex\n",
        "        simplex.append(generate_layer(x, dimension))\n",
        "\n",
        "    return simplex"
      ],
      "metadata": {
        "id": "FYfv8dAgn3HJ"
      },
      "id": "FYfv8dAgn3HJ",
      "execution_count": null,
      "outputs": []
    },
    {
      "cell_type": "code",
      "source": [
        "# Example for Pascal Triangle\n",
        "simplex = createPascalSimplex(10, 2) #layers and dimension\n",
        "for layer in simplex:\n",
        "    print(layer)"
      ],
      "metadata": {
        "colab": {
          "base_uri": "https://localhost:8080/"
        },
        "id": "wYzCLBMqpNyS",
        "outputId": "284b430c-6165-441a-fa97-655450fc240e"
      },
      "id": "wYzCLBMqpNyS",
      "execution_count": null,
      "outputs": [
        {
          "output_type": "stream",
          "name": "stdout",
          "text": [
            "[1]\n",
            "[1, 1]\n",
            "[1, 2, 1]\n",
            "[1, 3, 3, 1]\n",
            "[1, 4, 6, 4, 1]\n",
            "[1, 5, 10, 10, 5, 1]\n",
            "[1, 6, 15, 20, 15, 6, 1]\n",
            "[1, 7, 21, 35, 35, 21, 7, 1]\n",
            "[1, 8, 28, 56, 70, 56, 28, 8, 1]\n",
            "[1, 9, 36, 84, 126, 126, 84, 36, 9, 1]\n"
          ]
        }
      ]
    },
    {
      "cell_type": "code",
      "source": [
        "# Example for Pascal Tetraeder\n",
        "simplex = createPascalSimplex(10, 3) #layers and dimension\n",
        "for layer in simplex:\n",
        "    print(layer)"
      ],
      "metadata": {
        "colab": {
          "base_uri": "https://localhost:8080/"
        },
        "id": "ofTEYzQPpYzt",
        "outputId": "20c930f9-2132-4004-b4df-a2fdb31abf45"
      },
      "id": "ofTEYzQPpYzt",
      "execution_count": null,
      "outputs": [
        {
          "output_type": "stream",
          "name": "stdout",
          "text": [
            "[[1]]\n",
            "[[1, 1], [1]]\n",
            "[[1, 2, 1], [2, 2], [1]]\n",
            "[[1, 3, 3, 1], [3, 6, 3], [3, 3], [1]]\n",
            "[[1, 4, 6, 4, 1], [4, 12, 12, 4], [6, 12, 6], [4, 4], [1]]\n",
            "[[1, 5, 10, 10, 5, 1], [5, 20, 30, 20, 5], [10, 30, 30, 10], [10, 20, 10], [5, 5], [1]]\n",
            "[[1, 6, 15, 20, 15, 6, 1], [6, 30, 60, 60, 30, 6], [15, 60, 90, 60, 15], [20, 60, 60, 20], [15, 30, 15], [6, 6], [1]]\n",
            "[[1, 7, 21, 35, 35, 21, 7, 1], [7, 42, 105, 140, 105, 42, 7], [21, 105, 210, 210, 105, 21], [35, 140, 210, 140, 35], [35, 105, 105, 35], [21, 42, 21], [7, 7], [1]]\n",
            "[[1, 8, 28, 56, 70, 56, 28, 8, 1], [8, 56, 168, 280, 280, 168, 56, 8], [28, 168, 420, 560, 420, 168, 28], [56, 280, 560, 560, 280, 56], [70, 280, 420, 280, 70], [56, 168, 168, 56], [28, 56, 28], [8, 8], [1]]\n",
            "[[1, 9, 36, 84, 126, 126, 84, 36, 9, 1], [9, 72, 252, 504, 630, 504, 252, 72, 9], [36, 252, 756, 1260, 1260, 756, 252, 36], [84, 504, 1260, 1680, 1260, 504, 84], [126, 630, 1260, 1260, 630, 126], [126, 504, 756, 504, 126], [84, 252, 252, 84], [36, 72, 36], [9, 9], [1]]\n"
          ]
        }
      ]
    },
    {
      "cell_type": "markdown",
      "source": [
        "## Calculating Hyperplane-Sums"
      ],
      "metadata": {
        "id": "L4mqHv82pnG5"
      },
      "id": "L4mqHv82pnG5"
    },
    {
      "cell_type": "markdown",
      "source": [
        "In the introduction, we explored how the Fibonacci sequence can be derived by summing diagonals (hyperplanes of dimension 2) within a two-dimensional Pascal Simplex. By drawing diagonals with a slope of 1, we obtained a sequence of numbers that correspond to the Fibonacci sequence.\n",
        "\n",
        "This approach raises an interesting question: **What happens when we consider different slopes in Pascal simplices of arbitrary dimensions?** Instead of restricting ourselves to a single diagonal direction, we can generalize this idea to higher-dimensional Pascal simplices and compute sums along hyperplanes of varying slopes.\n",
        "\n",
        "By systematically analyzing these hyperplane sums, we can uncover hidden patterns and relationships between Pascal-like structures and number sequences beyond Fibonacci. The following functions help calculate these sums efficiently, ensuring that nested structures within the Pascal Simplex are properly accounted for."
      ],
      "metadata": {
        "id": "QjS3fxDZpsPR"
      },
      "id": "QjS3fxDZpsPR"
    },
    {
      "cell_type": "markdown",
      "source": [
        "To simplify the calculation of hyperplanes, I realized that I essentially only need to calculate the indices in the second dimension of the simplex with a given slope, as the nested list will then automatically contain all elements on the plane. This can perhaps be better explained with the visualization of Pascal's Tetrahedron.\n",
        "\n",
        "![](https://upload.wikimedia.org/wikipedia/commons/thumb/2/22/Pascal_pyramid_3d.svg/449px-Pascal_pyramid_3d.svg.png)\n",
        "\n",
        "We can see that on the first level, Pascal's Triangle also appears. Now, if I calculate the indices of the level in the triangle and sum up all the nested lists, I will automatically get the sum of the level in Pascal's Triangle."
      ],
      "metadata": {
        "id": "HmRLlciftwY1"
      },
      "id": "HmRLlciftwY1"
    },
    {
      "cell_type": "code",
      "source": [
        "def calculate_sum_nested_list(nested_list):\n",
        "  \"\"\"Calculates the sum of all elements in a nested list.\n",
        "\n",
        "  Args:\n",
        "    nested_list: A list that may contain nested lists.\n",
        "\n",
        "  Returns:\n",
        "    The sum of all elements in the nested list.\n",
        "  \"\"\"\n",
        "  total_sum = 0\n",
        "  for element in nested_list:\n",
        "    if isinstance(element, list):\n",
        "      total_sum += calculate_sum_nested_list(element)\n",
        "    else:\n",
        "      total_sum += element\n",
        "  return total_sum"
      ],
      "metadata": {
        "id": "T82oXNGfqlbQ"
      },
      "id": "T82oXNGfqlbQ",
      "execution_count": 132,
      "outputs": []
    },
    {
      "cell_type": "code",
      "source": [
        "def calculateNumberOfPlainElements(layer, m):\n",
        "    if(layer == 0):\n",
        "        return 1\n",
        "\n",
        "    seq = []\n",
        "\n",
        "    c = 0\n",
        "    for i in range(0, layer):\n",
        "        c += 1\n",
        "        for j in range(0, m):\n",
        "            seq.append(c)\n",
        "\n",
        "    return seq[layer]"
      ],
      "metadata": {
        "id": "ZYcWFq3wqrsB"
      },
      "id": "ZYcWFq3wqrsB",
      "execution_count": 133,
      "outputs": []
    },
    {
      "cell_type": "code",
      "source": [
        "def calculateHypersumsInPascalSimplex(simplex, m):\n",
        "    res = []  # Initialize an empty list to store results\n",
        "\n",
        "    # Iterate through each layer in the simplex\n",
        "    for layer in range(len(simplex)):\n",
        "        plainSum = 0  # Initialize the sum for the current layer\n",
        "\n",
        "        # Calculate how many elements are in the diagonal sum (depends on layer and m)\n",
        "        elements = calculateNumberOfPlainElements(layer, m+1)\n",
        "\n",
        "        # Iterate through the elements in the current layer\n",
        "        for i in range(elements):\n",
        "            value = simplex[layer - i * m]  # Get the value from the simplex at the specific index\n",
        "\n",
        "            if isinstance(value, int):  # If the value is an integer (direct element)\n",
        "                plainSum = 1  # Assign 1 to the plainSum (not adding the value here)\n",
        "            elif isinstance(value, list):  # If the value is a list\n",
        "                if isinstance(value[i], int):  # If the current element in the list is an integer\n",
        "                    plainSum += value[i]  # Add the integer value to plainSum\n",
        "                else:  # If the current element is a list, recursively sum its elements\n",
        "                    plainSum += calculate_sum_nested_list(value[i])\n",
        "\n",
        "        res.append(plainSum)  # Append the computed sum for the current layer to the result list\n",
        "\n",
        "    return res  # Return the list of summed values for each layer"
      ],
      "metadata": {
        "id": "URFdmGkdqu8A"
      },
      "id": "URFdmGkdqu8A",
      "execution_count": 134,
      "outputs": []
    },
    {
      "cell_type": "code",
      "source": [
        "# Example with simplex created above\n",
        "calculateHypersumsInPascalSimplex(simplex,2)"
      ],
      "metadata": {
        "colab": {
          "base_uri": "https://localhost:8080/"
        },
        "id": "kqLYotLWq0Jw",
        "outputId": "71d385ce-7745-41ef-ba44-c00ae2992bee"
      },
      "id": "kqLYotLWq0Jw",
      "execution_count": 141,
      "outputs": [
        {
          "output_type": "execute_result",
          "data": {
            "text/plain": [
              "[1, 2, 4, 9, 20, 44, 97, 214, 472, 1041]"
            ]
          },
          "metadata": {},
          "execution_count": 141
        }
      ]
    },
    {
      "cell_type": "markdown",
      "source": [
        "## Formula for the Hypersum Sequence"
      ],
      "metadata": {
        "id": "Hz4Z_B4fujRE"
      },
      "id": "Hz4Z_B4fujRE"
    },
    {
      "cell_type": "markdown",
      "source": [
        "Through iterative testing and refinement of various hypotheses, the following recursive formula was derived to model the sequence in question. The formula generalizes the recurrence relation and initial conditions as follows:\n",
        "\n",
        "**Recursive Formula:**  \n",
        "The $n$-th term of the sequence is given by:  \n",
        "$$\n",
        "x_n = (d-1)x_{n-1} + x_{n-(m+1)}\n",
        "$$\n",
        "where $d$ is the dimension parameter and $m$ defines the offset for the recurrence.\n",
        "\n",
        "**Initial Conditions:**  \n",
        "For the first $m+1$ terms, the sequence is initialized as:  \n",
        "$$\n",
        "x_n = (d-1)^n \\quad \\text{for } n \\leq m+1.\n",
        "$$"
      ],
      "metadata": {
        "id": "6BoEv-kIwH-F"
      },
      "id": "6BoEv-kIwH-F"
    },
    {
      "cell_type": "code",
      "source": [
        "def calculateSequence(dimension, m, k):  # for k elements\n",
        "    \"\"\"Generates a sequence using a recursive formula with given parameters.\n",
        "\n",
        "    The sequence follows the recurrence relation:\n",
        "    x_n = (d-1)x_{n-1} + x_{n-(m+1)} with initial terms x_n = (d-1)^n for n ≤ m+1.\n",
        "\n",
        "    Args:\n",
        "        dimension (int): Dimension parameter (d) in the formula.\n",
        "        m (int): Offset parameter defining the recurrence depth.\n",
        "        k (int): Number of elements to compute in the sequence.\n",
        "\n",
        "    Returns:\n",
        "        list: First k elements of the sequence.\n",
        "\n",
        "    Example:\n",
        "        >>> calculateSequence(d=2, m=2, k=5)\n",
        "        [1, 1, 1, 2, 3]  # For d=1, all terms would be 1\n",
        "    \"\"\"\n",
        "    res = []\n",
        "\n",
        "    # Edge case: Sequence is all 1s when dimension == 1\n",
        "    if dimension == 1:\n",
        "        return [1] * k\n",
        "\n",
        "    # Initialize first min(k, m+1) terms using x_n = (d-1)^n\n",
        "    for i in range(min(k, m + 1)):\n",
        "        res.append(pow(dimension - 1, i))\n",
        "\n",
        "    # Compute remaining terms using the recurrence relation\n",
        "    for i in range(m + 1, k):\n",
        "        value = (dimension - 1) * res[i - 1] + res[i - (m + 1)]\n",
        "        res.append(value)\n",
        "\n",
        "    return res"
      ],
      "metadata": {
        "id": "Gd_KKmyjuUQl"
      },
      "id": "Gd_KKmyjuUQl",
      "execution_count": 143,
      "outputs": []
    },
    {
      "cell_type": "markdown",
      "source": [
        "Now we still need to validate the formula."
      ],
      "metadata": {
        "id": "jXE3bYGixVsx"
      },
      "id": "jXE3bYGixVsx"
    },
    {
      "cell_type": "code",
      "source": [
        "def validateFormula(maxD, maxM, maxK):\n",
        "    \"\"\"Validates the recursive sequence formula against hypersums in a Pascal simplex.\n",
        "\n",
        "    Tests the formula implemented in `calculateSequence()` by comparing its output with\n",
        "    hypersums computed from a Pascal simplex for all combinations of parameters:\n",
        "    - Dimension `d` from 1 to `maxD-1`\n",
        "    - Slope `m` from 1 to `maxM-1`\n",
        "    - Sequence length `k` from 1 to `maxK-1`\n",
        "\n",
        "    Args:\n",
        "        maxD (int): Maximum dimension parameter to test (exclusive).\n",
        "        maxM (int): Maximum slope parameter to test (exclusive).\n",
        "        maxK (int): Maximum sequence length to test (exclusive).\n",
        "\n",
        "    Returns:\n",
        "        bool: True if all tests pass, False if any mismatch occurs.\n",
        "\n",
        "    Example:\n",
        "        >>> validateFormula(3, 3, 10)\n",
        "        True  # If no errors found for d=1,2; m=1,2; k=5-9\n",
        "    \"\"\"\n",
        "    all_okay = True\n",
        "\n",
        "    # Iterate through all combinations of parameters\n",
        "    for d in range(1, maxD):\n",
        "        for m in range(1, maxM):\n",
        "            for k in range(1, maxK):\n",
        "                # Generate Pascal simplex and compute hypersums\n",
        "                simplex = createPascalSimplex(k, d)\n",
        "                hypersums = calculateHypersumsInPascalSimplex(simplex, m)\n",
        "\n",
        "                # Compute sequence using the recursive formula\n",
        "                sequence = calculateSequence(d, m, k)\n",
        "\n",
        "                # Check for mismatches\n",
        "                if hypersums != sequence:\n",
        "                    print(f\"Error at d={d}, m={m}, k={k}\")\n",
        "                    print(f\"Hypersums: {hypersums}\\nSequence: {sequence}\")\n",
        "                    all_okay = False\n",
        "\n",
        "    return all_okay"
      ],
      "metadata": {
        "id": "DzIQI3P6wpAz"
      },
      "id": "DzIQI3P6wpAz",
      "execution_count": 144,
      "outputs": []
    },
    {
      "cell_type": "markdown",
      "source": [
        "The test with the parameters b = 10, m = 10, and k = 17 was successful."
      ],
      "metadata": {
        "id": "_43LIRh8zG0V"
      },
      "id": "_43LIRh8zG0V"
    },
    {
      "cell_type": "code",
      "source": [
        "validateFormula(10, 10, 17) #dimension, slope, k elements"
      ],
      "metadata": {
        "colab": {
          "base_uri": "https://localhost:8080/"
        },
        "id": "hKj9JqtFx6JQ",
        "outputId": "d9d45d22-56a2-4817-9c64-abd5eaa66def"
      },
      "id": "hKj9JqtFx6JQ",
      "execution_count": 150,
      "outputs": [
        {
          "output_type": "execute_result",
          "data": {
            "text/plain": [
              "True"
            ]
          },
          "metadata": {},
          "execution_count": 150
        }
      ]
    },
    {
      "cell_type": "markdown",
      "source": [
        "## Finding Popular Sequences"
      ],
      "metadata": {
        "id": "RoezqMq2zeLS"
      },
      "id": "RoezqMq2zeLS"
    },
    {
      "cell_type": "code",
      "source": [
        "# Fibonacci\n",
        "calculateSequence(2, 1, 15)"
      ],
      "metadata": {
        "colab": {
          "base_uri": "https://localhost:8080/"
        },
        "id": "lNPwhkaezelr",
        "outputId": "a540b5dc-ff69-4634-f093-a2da50c25fec"
      },
      "id": "lNPwhkaezelr",
      "execution_count": 155,
      "outputs": [
        {
          "output_type": "execute_result",
          "data": {
            "text/plain": [
              "[1, 1, 2, 3, 5, 8, 13, 21, 34, 55, 89, 144, 233, 377, 610]"
            ]
          },
          "metadata": {},
          "execution_count": 155
        }
      ]
    },
    {
      "cell_type": "code",
      "source": [
        "# Pell numbers\n",
        "calculateSequence(3, 1, 15)"
      ],
      "metadata": {
        "colab": {
          "base_uri": "https://localhost:8080/"
        },
        "id": "iHP_uaQw2Ppy",
        "outputId": "3706e9af-e824-4c97-8f69-274020071d41"
      },
      "id": "iHP_uaQw2Ppy",
      "execution_count": 171,
      "outputs": [
        {
          "output_type": "execute_result",
          "data": {
            "text/plain": [
              "[1, 2, 5, 12, 29, 70, 169, 408, 985, 2378, 5741, 13860, 33461, 80782, 195025]"
            ]
          },
          "metadata": {},
          "execution_count": 171
        }
      ]
    },
    {
      "cell_type": "code",
      "source": [
        "# Narayana’s cows sequence\n",
        "calculateSequence(2, 2, 15)"
      ],
      "metadata": {
        "colab": {
          "base_uri": "https://localhost:8080/"
        },
        "id": "8u3dUfh113MK",
        "outputId": "b337ca02-ced4-4af4-acaa-758cbb18c78e"
      },
      "id": "8u3dUfh113MK",
      "execution_count": 156,
      "outputs": [
        {
          "output_type": "execute_result",
          "data": {
            "text/plain": [
              "[1, 1, 1, 2, 3, 4, 6, 9, 13, 19, 28, 41, 60, 88, 129]"
            ]
          },
          "metadata": {},
          "execution_count": 156
        }
      ]
    },
    {
      "cell_type": "markdown",
      "source": [
        "## Sources"
      ],
      "metadata": {
        "id": "L7GZSJcpzuW5"
      },
      "id": "L7GZSJcpzuW5"
    },
    {
      "cell_type": "markdown",
      "source": [
        "\n",
        "\n",
        "*   https://walser-h-m.ch/hans/Miniaturen/F/Fibo_Pascal/Fibo_Pascal.htm\n",
        "*   https://www.spektrum.de/kolumne/die-faszinierenden-eigenschaften-des-pascalschen-dreiecks/2086188\n",
        "*   https://en.wikipedia.org/wiki/Pascal%27s_simplex\n",
        "\n"
      ],
      "metadata": {
        "id": "zPlxfJgvz2QR"
      },
      "id": "zPlxfJgvz2QR"
    },
    {
      "cell_type": "code",
      "source": [],
      "metadata": {
        "id": "-kXyoAG90DNP"
      },
      "id": "-kXyoAG90DNP",
      "execution_count": null,
      "outputs": []
    }
  ],
  "metadata": {
    "kernelspec": {
      "display_name": "Python 3 (ipykernel)",
      "language": "python",
      "name": "python3"
    },
    "language_info": {
      "codemirror_mode": {
        "name": "ipython",
        "version": 3
      },
      "file_extension": ".py",
      "mimetype": "text/x-python",
      "name": "python",
      "nbconvert_exporter": "python",
      "pygments_lexer": "ipython3",
      "version": "3.12.4"
    },
    "colab": {
      "provenance": [],
      "collapsed_sections": [
        "L7GZSJcpzuW5"
      ]
    }
  },
  "nbformat": 4,
  "nbformat_minor": 5
}