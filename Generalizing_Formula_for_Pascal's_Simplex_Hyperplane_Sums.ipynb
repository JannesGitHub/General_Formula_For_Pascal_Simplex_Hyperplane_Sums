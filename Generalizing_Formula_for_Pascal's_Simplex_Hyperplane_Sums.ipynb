{
  "cells": [
    {
      "cell_type": "markdown",
      "id": "963b65cd-6446-4efd-96e4-c5463a591e90",
      "metadata": {
        "id": "963b65cd-6446-4efd-96e4-c5463a591e90"
      },
      "source": [
        "# **Generalizing the connection between Pascals Triangle and the Fiboncacci sequence**"
      ]
    },
    {
      "cell_type": "markdown",
      "id": "9LwFT989pKdB",
      "metadata": {
        "id": "9LwFT989pKdB"
      },
      "source": [
        "## Introduction"
      ]
    },
    {
      "cell_type": "markdown",
      "id": "xXyFlporlDPn",
      "metadata": {
        "id": "xXyFlporlDPn"
      },
      "source": [
        "Pascal’s Triangle is one of the most fascinating mathematical structures, appearing in numerous areas of mathematics, from combinatorics to number theory. It is built by arranging binomial coefficients in a triangular pattern, revealing surprising relationships between numbers. One such connection, perhaps lesser known, links Pascal’s Triangle to the Fibonacci sequence.\n",
        "\n",
        "The Fibonacci sequence is a simple yet powerful sequence of numbers, where each term is the sum of the two preceding ones. It appears in nature, art, and even financial models.\n",
        "Remarkably, hidden within Pascal’s Triangle, Fibonacci numbers can be discovered along specific diagonal paths, as you can see in the picture below.\n",
        "\n",
        "![](https://aperiodical.com/wp-content/uploads/2021/12/image-3.png)\n",
        "\n",
        "As you can see, the sequence of diagonal sums equals the Fibonacci sequence, which is defined as:\n",
        "\n",
        "$$\n",
        "F_n =\n",
        "\\begin{cases}\n",
        "    0, & \\text{if } n = 0 \\\\\n",
        "    1, & \\text{if } n = 1 \\\\\n",
        "    F_{n-1} + F_{n-2}, & \\text{if } n \\geq 2\n",
        "\\end{cases}\n",
        "$$\n",
        "\n",
        "In this notebook, we will explore this connection in greater depth and extend it beyond two dimensions. By generalizing Pascal’s Triangle into higher-dimensional structures, known as Pascal simplices, we will uncover a formula for summing elements along specific hyperplanes. This exploration will not only deepen our understanding of Pascal’s Triangle and the Fibonacci sequence but also reveal elegant mathematical patterns that emerge in higher dimensions."
      ]
    },
    {
      "cell_type": "markdown",
      "id": "rxRj10uElMl_",
      "metadata": {
        "id": "rxRj10uElMl_"
      },
      "source": [
        "## Constructing Pascal's Simplices"
      ]
    },
    {
      "cell_type": "markdown",
      "id": "ZqU_cfBAmSTG",
      "metadata": {
        "id": "ZqU_cfBAmSTG"
      },
      "source": [
        "To perform various calculations on a Pascal Simplex, we first need to construct its structure. The Pascal Simplex is represented as a **nested list**, where each element is indexed based on its position within different dimensions:\n",
        "\n",
        "*   The first index represents the layer of the element along the first axis\n",
        "*   The second index represents the position along the second axis\n",
        "*   This pattern continues for higher dimensions, where each additional index specifies the position along a new axis.\n",
        "\n"
      ]
    },
    {
      "cell_type": "code",
      "execution_count": 98,
      "id": "MA2rtANdpR4A",
      "metadata": {
        "id": "MA2rtANdpR4A"
      },
      "outputs": [],
      "source": [
        "from math import factorial\n",
        "\n",
        "def createPascalSimplex(layers, dimension):\n",
        "    \"\"\"\n",
        "    Creates a Pascal Simplex with the given number of layers and dimension.\n",
        "    Uses multinomial coefficients to compute the entries.\n",
        "\n",
        "    Args:\n",
        "        layers (int): The number of layers in the simplex.\n",
        "        dimension (int): The dimension of the simplex (must be at least 1).\n",
        "\n",
        "    Returns:\n",
        "        list: A nested list representing the Pascal Simplex.\n",
        "    \"\"\"\n",
        "    if dimension < 1:\n",
        "        raise ValueError(\"Dimension must be at least 1.\")\n",
        "    if layers == 0:\n",
        "        return []\n",
        "\n",
        "    # Handle 1-dimensional case as a flat list of 1's\n",
        "    if dimension == 1:\n",
        "        return [1] * layers\n",
        "\n",
        "    # Precompute factorials up to the maximum needed value (layers - 1)\n",
        "    fact = [1] * (layers) #list of 1's of length #layers\n",
        "    for i in range(1, layers):\n",
        "        fact[i] = fact[i-1] * i\n",
        "\n",
        "    def generate_layer(x, dim): #please build this function recursive\n",
        "        \"\"\"Generates a single layer of the simplex with sum x in given dimension.\"\"\"\n",
        "        layer = []\n",
        "        # Stack elements: (current_sublist, current_depth, remaining_sum, product_of_factorials)\n",
        "        stack = [(layer, 0, x, 1)]\n",
        "\n",
        "        while stack:\n",
        "            # Get last element from the stack\n",
        "            current_sublist, depth, remaining, fact_prod = stack.pop()\n",
        "\n",
        "            if depth == dim - 1:\n",
        "                # Last dimension: compute coefficient using remaining sum\n",
        "                coeff = fact[x] // (fact_prod * fact[remaining])\n",
        "                current_sublist.append(coeff)\n",
        "            else:\n",
        "                if depth + 1 == dim - 1:\n",
        "                    # Handle penultimate dimension: generate coefficients directly\n",
        "                    for k in reversed(range(remaining + 1)):\n",
        "                        k_last = remaining - k\n",
        "                        denominator = fact_prod * fact[k] * fact[k_last]\n",
        "                        coeff = fact[x] // denominator\n",
        "                        current_sublist.append(coeff)\n",
        "                else:\n",
        "                    # Generate nested structure for intermediate dimensions\n",
        "                    for k in reversed(range(remaining + 1)):\n",
        "                        new_remaining = remaining - k\n",
        "                        new_fact_prod = fact_prod * fact[k]\n",
        "                        new_sublist = []\n",
        "                        current_sublist.append(new_sublist)\n",
        "                        stack.append((new_sublist, depth + 1, new_remaining, new_fact_prod))\n",
        "        return layer\n",
        "\n",
        "    # Build the full simplex with all layers\n",
        "    simplex = []\n",
        "    for x in range(layers):\n",
        "        simplex.append(generate_layer(x, dimension))\n",
        "\n",
        "    return simplex"
      ]
    },
    {
      "cell_type": "code",
      "execution_count": 99,
      "id": "JSyl1kGgvN0Z",
      "metadata": {
        "colab": {
          "base_uri": "https://localhost:8080/"
        },
        "id": "JSyl1kGgvN0Z",
        "outputId": "bc32193e-4dab-4153-fca5-1ed190431656"
      },
      "outputs": [
        {
          "output_type": "stream",
          "name": "stdout",
          "text": [
            "[1, 1, 1, 1, 1, 1, 1, 1, 1, 1]\n"
          ]
        }
      ],
      "source": [
        "# Example for dim = 1 Pascal Simplex\n",
        "simplex = createPascalSimplex(10, 1) #layers and dimension\n",
        "print(simplex)"
      ]
    },
    {
      "cell_type": "code",
      "execution_count": 100,
      "id": "wYzCLBMqpNyS",
      "metadata": {
        "colab": {
          "base_uri": "https://localhost:8080/"
        },
        "id": "wYzCLBMqpNyS",
        "outputId": "c86eaedf-cafd-4ceb-9651-5a8740a9a283"
      },
      "outputs": [
        {
          "output_type": "stream",
          "name": "stdout",
          "text": [
            "[1]\n",
            "[1, 1]\n",
            "[1, 2, 1]\n",
            "[1, 3, 3, 1]\n",
            "[1, 4, 6, 4, 1]\n",
            "[1, 5, 10, 10, 5, 1]\n",
            "[1, 6, 15, 20, 15, 6, 1]\n",
            "[1, 7, 21, 35, 35, 21, 7, 1]\n",
            "[1, 8, 28, 56, 70, 56, 28, 8, 1]\n",
            "[1, 9, 36, 84, 126, 126, 84, 36, 9, 1]\n"
          ]
        }
      ],
      "source": [
        "# Example for Pascal Triangle\n",
        "simplex = createPascalSimplex(10, 2) #layers and dimension\n",
        "for layer in simplex:\n",
        "    print(layer)"
      ]
    },
    {
      "cell_type": "code",
      "execution_count": 101,
      "id": "ofTEYzQPpYzt",
      "metadata": {
        "colab": {
          "base_uri": "https://localhost:8080/"
        },
        "id": "ofTEYzQPpYzt",
        "outputId": "b1f8ffac-821c-404c-8e91-0cbecaa6c1f5"
      },
      "outputs": [
        {
          "output_type": "stream",
          "name": "stdout",
          "text": [
            "[[1]]\n",
            "[[1], [1, 1]]\n",
            "[[1], [2, 2], [1, 2, 1]]\n",
            "[[1], [3, 3], [3, 6, 3], [1, 3, 3, 1]]\n",
            "[[1], [4, 4], [6, 12, 6], [4, 12, 12, 4], [1, 4, 6, 4, 1]]\n",
            "[[1], [5, 5], [10, 20, 10], [10, 30, 30, 10], [5, 20, 30, 20, 5], [1, 5, 10, 10, 5, 1]]\n",
            "[[1], [6, 6], [15, 30, 15], [20, 60, 60, 20], [15, 60, 90, 60, 15], [6, 30, 60, 60, 30, 6], [1, 6, 15, 20, 15, 6, 1]]\n",
            "[[1], [7, 7], [21, 42, 21], [35, 105, 105, 35], [35, 140, 210, 140, 35], [21, 105, 210, 210, 105, 21], [7, 42, 105, 140, 105, 42, 7], [1, 7, 21, 35, 35, 21, 7, 1]]\n",
            "[[1], [8, 8], [28, 56, 28], [56, 168, 168, 56], [70, 280, 420, 280, 70], [56, 280, 560, 560, 280, 56], [28, 168, 420, 560, 420, 168, 28], [8, 56, 168, 280, 280, 168, 56, 8], [1, 8, 28, 56, 70, 56, 28, 8, 1]]\n",
            "[[1], [9, 9], [36, 72, 36], [84, 252, 252, 84], [126, 504, 756, 504, 126], [126, 630, 1260, 1260, 630, 126], [84, 504, 1260, 1680, 1260, 504, 84], [36, 252, 756, 1260, 1260, 756, 252, 36], [9, 72, 252, 504, 630, 504, 252, 72, 9], [1, 9, 36, 84, 126, 126, 84, 36, 9, 1]]\n"
          ]
        }
      ],
      "source": [
        "# Example for Pascal Tetraeder\n",
        "simplex = createPascalSimplex(10, 3) #layers and dimension\n",
        "for layer in simplex:\n",
        "    print(layer)"
      ]
    },
    {
      "cell_type": "markdown",
      "id": "L4mqHv82pnG5",
      "metadata": {
        "id": "L4mqHv82pnG5"
      },
      "source": [
        "## Calculating Hyperplane-Sums"
      ]
    },
    {
      "cell_type": "markdown",
      "id": "QjS3fxDZpsPR",
      "metadata": {
        "id": "QjS3fxDZpsPR"
      },
      "source": [
        "In the introduction, we explored how the Fibonacci sequence can be derived by summing diagonals (hyperplanes of dimension 2) within a two-dimensional Pascal Simplex. By drawing diagonals with a slope of 1, we obtained a sequence of numbers that correspond to the Fibonacci sequence.\n",
        "\n",
        "This approach raises an interesting question: **What happens when we consider different slopes in Pascal simplices of arbitrary dimensions?** Instead of restricting ourselves to a single diagonal direction, we can generalize this idea to higher-dimensional Pascal simplices and compute sums along hyperplanes of varying slopes.\n",
        "\n",
        "By systematically analyzing these hyperplane sums, we can uncover hidden patterns and relationships between Pascal-like structures and number sequences beyond Fibonacci. The following functions help calculate these sums efficiently, ensuring that nested structures within the Pascal Simplex are properly accounted for."
      ]
    },
    {
      "cell_type": "markdown",
      "id": "HmRLlciftwY1",
      "metadata": {
        "id": "HmRLlciftwY1"
      },
      "source": [
        "To simplify the calculation of hyperplanes, I realized that I essentially only need to calculate the indices in the second dimension of the simplex with a given slope, as the nested list will then automatically contain all elements on the plane. This can perhaps be better explained with the visualization of Pascal's Tetrahedron.\n",
        "\n",
        "![](https://upload.wikimedia.org/wikipedia/commons/thumb/2/22/Pascal_pyramid_3d.svg/449px-Pascal_pyramid_3d.svg.png)\n",
        "\n",
        "We can see that on the first level, Pascal's Triangle also appears. Now, if I calculate the indices of the level in the triangle and sum up all the nested lists, I will automatically get the sum of the level in Pascal's Triangle."
      ]
    },
    {
      "cell_type": "code",
      "execution_count": 102,
      "id": "T82oXNGfqlbQ",
      "metadata": {
        "id": "T82oXNGfqlbQ"
      },
      "outputs": [],
      "source": [
        "def calculate_sum_nested_list(nested_list):\n",
        "  \"\"\"Calculates the sum of all elements in a nested list.\n",
        "\n",
        "  Args:\n",
        "    nested_list: A list that may contain nested lists.\n",
        "\n",
        "  Returns:\n",
        "    The sum of all elements in the nested list.\n",
        "  \"\"\"\n",
        "  total_sum = 0\n",
        "  for element in nested_list:\n",
        "    if isinstance(element, list):\n",
        "      total_sum += calculate_sum_nested_list(element)\n",
        "    else:\n",
        "      total_sum += element\n",
        "  return total_sum"
      ]
    },
    {
      "cell_type": "code",
      "execution_count": 103,
      "id": "URFdmGkdqu8A",
      "metadata": {
        "id": "URFdmGkdqu8A"
      },
      "outputs": [],
      "source": [
        "def calculateHypersumsInPascalSimplex(simplex, m):\n",
        "    \"\"\"\n",
        "    Computes hypersums for each layer of a Pascal simplex based on a given dimension.\n",
        "\n",
        "    Args:\n",
        "        simplex (list): A nested list representing the Pascal simplex. Each element can be either an integer\n",
        "                        or a list, reflecting the structure of the simplex.\n",
        "        m (int): The dimension parameter used to determine how many elements contribute to the hypersum of each layer.\n",
        "                 For each layer, es wird iterativ versucht, auf das Element an der Stelle layer - i*m zuzugreifen.\n",
        "\n",
        "    Returns:\n",
        "        list: A list of hypersums, where each entry corresponds to the computed sum for the respective layer\n",
        "              in the simplex.\n",
        "    \"\"\"\n",
        "    res = []\n",
        "\n",
        "    # Iterate through all layers in the simplex.\n",
        "    for layer in range(len(simplex)):\n",
        "        plain_sum = 0\n",
        "        i = 0\n",
        "\n",
        "        # Continue iterating as long as a valid index can be reached.\n",
        "        while True:\n",
        "            idx = layer - i * m\n",
        "            if idx < 0:\n",
        "                break  # Invalid index, break out of the loop\n",
        "\n",
        "            try:\n",
        "                value = simplex[idx]\n",
        "            except IndexError:\n",
        "                break  # If the index is out of range of the list, break out of the loop\n",
        "\n",
        "            # Distinguish cases based on the type of the value:\n",
        "            if isinstance(value, list):\n",
        "                # Check if there is a valid entry at position i in the list.\n",
        "                if i < len(value):\n",
        "                    sub_value = value[i]\n",
        "                    if isinstance(sub_value, int):\n",
        "                        plain_sum += sub_value\n",
        "                    else:\n",
        "                        plain_sum += calculate_sum_nested_list(sub_value)\n",
        "            elif isinstance(value, int):\n",
        "                # Special case for one-dimensional simplex structures:\n",
        "                plain_sum = 1\n",
        "                break  # No further iterations are necessary\n",
        "\n",
        "            i += 1  # Consider the next element\n",
        "\n",
        "        res.append(plain_sum)\n",
        "\n",
        "    return res"
      ]
    },
    {
      "cell_type": "code",
      "execution_count": 104,
      "id": "kqLYotLWq0Jw",
      "metadata": {
        "colab": {
          "base_uri": "https://localhost:8080/"
        },
        "id": "kqLYotLWq0Jw",
        "outputId": "6dca7e5d-827d-4d26-f071-a0a4693ce69d"
      },
      "outputs": [
        {
          "output_type": "execute_result",
          "data": {
            "text/plain": [
              "[1, 1, 1, 1, 1, 2, 3, 4, 5, 6, 8, 11, 15, 20, 26]"
            ]
          },
          "metadata": {},
          "execution_count": 104
        }
      ],
      "source": [
        "simplex = createPascalSimplex(15, 2) #layers and dimension\n",
        "\n",
        "# Example with simplex created above\n",
        "calculateHypersumsInPascalSimplex(simplex,4)"
      ]
    },
    {
      "cell_type": "markdown",
      "id": "Hz4Z_B4fujRE",
      "metadata": {
        "id": "Hz4Z_B4fujRE"
      },
      "source": [
        "## Formula for the Hypersum Sequence"
      ]
    },
    {
      "cell_type": "markdown",
      "id": "6BoEv-kIwH-F",
      "metadata": {
        "id": "6BoEv-kIwH-F"
      },
      "source": [
        "Through iterative testing and refinement of various hypotheses, the following recursive formula was derived to model the sequence in question. The formula generalizes the recurrence relation and initial conditions as follows:\n",
        "\n",
        "**Recursive Formula:**  \n",
        "The $n$-th term of the sequence is given by:  \n",
        "$$\n",
        "x_n = x_{n-1} + (d-1) x_{n-(m+1)}\n",
        "$$\n",
        "where $d$ is the dimension parameter and $m$ defines the offset for the recurrence.\n",
        "\n",
        "**Initial Conditions:**  \n",
        "For the first $m+1$ terms, the sequence is initialized as:  \n",
        "$$\n",
        "x_n = 1 \\quad \\text{for } n \\leq m+1.\n",
        "$$"
      ]
    },
    {
      "cell_type": "code",
      "execution_count": 105,
      "id": "Gd_KKmyjuUQl",
      "metadata": {
        "id": "Gd_KKmyjuUQl"
      },
      "outputs": [],
      "source": [
        "def calculateSequence(dimension, m, k):  # for k elements\n",
        "    \"\"\"Generates a sequence using a recursive formula with given parameters.\n",
        "\n",
        "    The sequence follows the recurrence relation:\n",
        "    x_n = (d-1)x_{n-1} + x_{n-(m+1)} with initial terms x_n = (d-1)^n for n ≤ m+1.\n",
        "\n",
        "    Args:\n",
        "        dimension (int): Dimension parameter (d) in the formula.\n",
        "        m (int): Offset parameter defining the recurrence depth.\n",
        "        k (int): Number of elements to compute in the sequence.\n",
        "\n",
        "    Returns:\n",
        "        list: First k elements of the sequence.\n",
        "    \"\"\"\n",
        "    res = []\n",
        "\n",
        "    # Initialize first min(k, m+1) terms with 1's\n",
        "    for i in range(min(k, m + 1)):\n",
        "        res.append(1)\n",
        "\n",
        "    # Compute remaining terms using the recurrence relation\n",
        "    for i in range(m + 1, k):\n",
        "        value =  res[i - 1] + (dimension - 1)*res[i - (m + 1)]\n",
        "        res.append(value)\n",
        "\n",
        "    return res"
      ]
    },
    {
      "cell_type": "markdown",
      "id": "jXE3bYGixVsx",
      "metadata": {
        "id": "jXE3bYGixVsx"
      },
      "source": [
        "Now we still need to validate the formula."
      ]
    },
    {
      "cell_type": "code",
      "execution_count": 106,
      "id": "DzIQI3P6wpAz",
      "metadata": {
        "id": "DzIQI3P6wpAz"
      },
      "outputs": [],
      "source": [
        "def validateFormula(maxD, maxM, maxK):\n",
        "    \"\"\"Validates the recursive sequence formula against hypersums in a Pascal simplex.\n",
        "\n",
        "    Tests the formula implemented in `calculateSequence()` by comparing its output with\n",
        "    hypersums computed from a Pascal simplex for all combinations of parameters:\n",
        "    - Dimension `d` from 1 to `maxD-1`\n",
        "    - Slope `m` from 1 to `maxM-1`\n",
        "    - Sequence length `k` from 1 to `maxK-1`\n",
        "\n",
        "    Args:\n",
        "        maxD (int): Maximum dimension parameter to test (exclusive).\n",
        "        maxM (int): Maximum slope parameter to test (exclusive).\n",
        "        maxK (int): Maximum sequence length to test (exclusive).\n",
        "\n",
        "    Returns:\n",
        "        bool: True if all tests pass, False if any mismatch occurs.\n",
        "    \"\"\"\n",
        "    all_okay = True\n",
        "\n",
        "    # Iterate through all combinations of parameters\n",
        "    for d in range(1, maxD):\n",
        "        for m in range(1, maxM):\n",
        "            for k in range(1, maxK):\n",
        "                # Generate Pascal simplex and compute hypersums\n",
        "\n",
        "                simplex = createPascalSimplex(k, d)\n",
        "                hypersums = calculateHypersumsInPascalSimplex(simplex, m)\n",
        "\n",
        "                # Compute sequence using the recursive formula\n",
        "                sequence = calculateSequence(d, m, k)\n",
        "\n",
        "                # Check for mismatches\n",
        "                if hypersums != sequence:\n",
        "                    print(f\"Error at d={d}, m={m}, k={k}\")\n",
        "                    print(f\"Hypersums: {hypersums}\\nSequence: {sequence}\")\n",
        "                    all_okay = False\n",
        "\n",
        "    return all_okay"
      ]
    },
    {
      "cell_type": "markdown",
      "id": "_43LIRh8zG0V",
      "metadata": {
        "id": "_43LIRh8zG0V"
      },
      "source": [
        "The test with the parameters d = 10, m = 10, and k = 18 was successful."
      ]
    },
    {
      "cell_type": "code",
      "execution_count": 107,
      "id": "hKj9JqtFx6JQ",
      "metadata": {
        "colab": {
          "base_uri": "https://localhost:8080/"
        },
        "id": "hKj9JqtFx6JQ",
        "outputId": "6c15d200-d85e-452a-e989-1f24d767ba5d"
      },
      "outputs": [
        {
          "output_type": "execute_result",
          "data": {
            "text/plain": [
              "True"
            ]
          },
          "metadata": {},
          "execution_count": 107
        }
      ],
      "source": [
        "validateFormula(10, 10, 18) #dimension, slope, k elements"
      ]
    },
    {
      "cell_type": "markdown",
      "id": "RoezqMq2zeLS",
      "metadata": {
        "id": "RoezqMq2zeLS"
      },
      "source": [
        "## Finding Popular Sequences"
      ]
    },
    {
      "cell_type": "code",
      "execution_count": 108,
      "id": "lNPwhkaezelr",
      "metadata": {
        "id": "lNPwhkaezelr",
        "colab": {
          "base_uri": "https://localhost:8080/"
        },
        "outputId": "fb4583da-2730-4502-8e2b-7612354975c2"
      },
      "outputs": [
        {
          "output_type": "execute_result",
          "data": {
            "text/plain": [
              "[1, 1, 2, 3, 5, 8, 13, 21, 34, 55, 89, 144, 233, 377, 610]"
            ]
          },
          "metadata": {},
          "execution_count": 108
        }
      ],
      "source": [
        "# Fibonacci\n",
        "calculateSequence(2, 1, 15)"
      ]
    },
    {
      "cell_type": "code",
      "execution_count": 109,
      "id": "iHP_uaQw2Ppy",
      "metadata": {
        "id": "iHP_uaQw2Ppy",
        "colab": {
          "base_uri": "https://localhost:8080/"
        },
        "outputId": "fdbd5f10-0937-4d7b-b824-74525b9ec693"
      },
      "outputs": [
        {
          "output_type": "execute_result",
          "data": {
            "text/plain": [
              "[1, 1, 3, 5, 11, 21, 43, 85, 171, 341, 683, 1365, 2731, 5461, 10923]"
            ]
          },
          "metadata": {},
          "execution_count": 109
        }
      ],
      "source": [
        "# Jacobsthal-like\n",
        "calculateSequence(3, 1, 15)"
      ]
    },
    {
      "cell_type": "code",
      "execution_count": 110,
      "id": "8u3dUfh113MK",
      "metadata": {
        "id": "8u3dUfh113MK",
        "colab": {
          "base_uri": "https://localhost:8080/"
        },
        "outputId": "0c881b5b-0614-4b0c-d49a-26ecd4d68255"
      },
      "outputs": [
        {
          "output_type": "execute_result",
          "data": {
            "text/plain": [
              "[1, 1, 1, 2, 3, 4, 6, 9, 13, 19, 28, 41, 60, 88, 129]"
            ]
          },
          "metadata": {},
          "execution_count": 110
        }
      ],
      "source": [
        "# Narayana’s cows sequence\n",
        "calculateSequence(2, 2, 15)"
      ]
    },
    {
      "cell_type": "markdown",
      "id": "L7GZSJcpzuW5",
      "metadata": {
        "id": "L7GZSJcpzuW5"
      },
      "source": [
        "## Sources"
      ]
    },
    {
      "cell_type": "markdown",
      "id": "zPlxfJgvz2QR",
      "metadata": {
        "id": "zPlxfJgvz2QR"
      },
      "source": [
        "\n",
        "\n",
        "*   https://walser-h-m.ch/hans/Miniaturen/F/Fibo_Pascal/Fibo_Pascal.htm\n",
        "*   https://www.spektrum.de/kolumne/die-faszinierenden-eigenschaften-des-pascalschen-dreiecks/2086188\n",
        "*   https://en.wikipedia.org/wiki/Pascal%27s_simplex\n",
        "\n"
      ]
    }
  ],
  "metadata": {
    "colab": {
      "provenance": []
    },
    "kernelspec": {
      "display_name": "Python 3 (ipykernel)",
      "language": "python",
      "name": "python3"
    },
    "language_info": {
      "codemirror_mode": {
        "name": "ipython",
        "version": 3
      },
      "file_extension": ".py",
      "mimetype": "text/x-python",
      "name": "python",
      "nbconvert_exporter": "python",
      "pygments_lexer": "ipython3",
      "version": "3.12.4"
    }
  },
  "nbformat": 4,
  "nbformat_minor": 5
}